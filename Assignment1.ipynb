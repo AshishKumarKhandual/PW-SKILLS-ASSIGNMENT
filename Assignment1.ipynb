{
  "nbformat": 4,
  "nbformat_minor": 0,
  "metadata": {
    "colab": {
      "provenance": []
    },
    "kernelspec": {
      "name": "python3",
      "display_name": "Python 3"
    },
    "language_info": {
      "name": "python"
    }
  },
  "cells": [
    {
      "cell_type": "markdown",
      "source": [
        "# Python Basics Questions\n"
      ],
      "metadata": {
        "id": "spN3XcYKJPAf"
      }
    },
    {
      "cell_type": "markdown",
      "source": [
        "Question 1 : What is Python, and why is it popular ?\n",
        "\n",
        "Answer  : Python is a high-level, general-purpose programming language\n",
        "          known for its simple and readable syntax. It’s widely used in areas like web development, data analysis, artificial intelligence, automation, and scripting. One reason for its popularity is that it's beginner-friendly while still powerful enough for complex projects. Python also has a vast library ecosystem and strong community support, making it easy to find tools and help for almost any task.\n",
        "\n",
        "Question 2 : What is an interpreter in Python ?\n",
        "\n",
        "Answer : An interpreter in Python is a program that reads and executes\n",
        "         Python code line by line, translating it into machine code the computer can understand. Instead of compiling the entire program at once, the Python interpreter processes and runs each instruction one at a time. This makes it easier to test and debug code, as you can quickly see results and fix issues as they arise. Python’s interactive interpreter allows you to write and run code in real time.\n",
        "\n",
        "Question 3 : What are pre-defined keywords in Python ?\n",
        "\n",
        "Answer : Pre-defined keywords in Python are special reserved words      \n",
        "         that have specific meanings and purposes in the language. They are part of\n",
        "         Python’s syntax and cannot be used as names for variables, functions, or other identifiers. These keywords help define the structure and rules of Python programs.\n",
        "         Examples include :\n",
        "         if, else, elif :  for conditional statements\n",
        "         for, while : for loops\n",
        "         def : to define functions\n",
        "         class : to define classes\n",
        "         import : to bring in external modules\n",
        "         True, False, None : special constant values\n",
        "\n",
        "Question 4 : Can keywords be used as variable names ?\n",
        "\n",
        "Answer : No, keywords cannot be used as variable names in Python. Since\n",
        "         keywords have special meanings in the language, using them as variable names would confuse the interpreter and cause a syntax error.\n",
        "Question 5 :  What is mutability in Python ?\n",
        "\n",
        "Answer  : Mutability in Python refers to whether or not an object can\n",
        "          be changed after it is created. If an object is mutable, you can modify its contents (like changing elements in a list). If it is immutable, its contents cannot be changed once set (like strings or tuples).\n",
        "          For example:\n",
        "          Mutable objects: list, dict, set\n",
        "          Immutable objects: int, float, str, tuple\n",
        "          Understanding mutability is important because it affects how data behaves when passed around in a program.\n",
        "\n",
        "Question 6 : Why are lists mutable, but tuples are immutable ?\n",
        "\n",
        "Answer : Lists are mutable because they are designed to hold a sequence of\n",
        "         items that can change over time—you can add, remove, or modify elements in place. This makes lists flexible and suitable for tasks where the data needs to be updated frequently.\n",
        "         Tuples,are immutable by design to provide consistency and safety. Once a tuple is created, its contents can't be changed. This immutability makes tuples faster and suitable for fixed data, like keys in dictionaries or constant configurations.\n",
        "\n",
        "Question 7 : What is the difference between “==” and “is” operators in\n",
        "             Python ?\n",
        "Answer : In Python, == and is are both comparison operators, but they\n",
        "         check different things:\n",
        "         \"==\" checks if two values are equal.\n",
        "         It compares the contents of the variables.\n",
        "         \"is\" checks if two variables refer to the exact same object in memory. It compares the identity of the objects.\n",
        "\n",
        "Question 8 : What are logical operators in Python ?\n",
        "\n",
        "Answer : Logical operators in Python are used to combine or modify\n",
        "          Boolean values (True or False) in conditional expressions. There are three main logical operators:\n",
        "          1 . and: Returns True if both conditions are true.\n",
        "          2 . or: Returns True if at least one condition is true.\n",
        "          3 . not: Reverses the Boolean value; not True becomes False, and vice versa.\n",
        "\n",
        "Question 9 : What is type casting in Python ?\n",
        "\n",
        "Answer : Type casting in Python is the process of converting a value from\n",
        "         one data type to another. This is useful when you need to perform operations between different types, like turning a string into a number.\n",
        "         Python provides built-in functions for type casting, such as:\n",
        "         int() – converts to integer\n",
        "         float() – converts to float\n",
        "         str() – converts to string\n",
        "         bool() – converts to Boolean\n",
        "\n",
        "Question 10 : What is the difference between implicit and explicit type\n",
        "              casting ?\n",
        "\n",
        "Answer  : Implicit type casting is done automatically by Python when it\n",
        "          converts one data type to another during an operation, without you having to write any extra code.\n",
        "          Explicit type casting is done manually by the programmer using casting functions like int(), float(), or str().\n",
        "\n",
        "Question 11 : What is the purpose of conditional statements in Python ?\n",
        "\n",
        "Answer : The purpose of conditional statements in Python is to allow your\n",
        "         program to make decisions and execute certain blocks of code only when specific conditions are met. They help control the flow of the program based on whether a condition is True or False.\n",
        "\n",
        "Question 12 : How does the elif statement work ?\n",
        "\n",
        "Answer : The elif statement in Python stands for \"else if\" and is used to\n",
        "        check multiple conditions after an initial if statement.\n",
        "        How it works:\n",
        "        1 . Python checks the if condition first.\n",
        "        2 . If if is false, it checks each elif in order.\n",
        "        3 . If none of the if or elif conditions are true, it runs the else block .\n",
        "\n",
        "Question 13 :  What is the difference between for and while loops ?\n",
        "\n",
        "Answer : A for loop is used when you know ahead of time how many times you\n",
        "        want to loop. It’s commonly used to iterate over sequences like lists, strings, or ranges.\n",
        "        A while loop is used when you don't know exactly how many times to loop — it keeps running as long as a condition is true.\n",
        "\n",
        "Question 14 : Describe a scenario where a while loop is more suitable than\n",
        "              a for loop.\n",
        "\n",
        "Answer : A while loop is more suitable when you don’t know in advance how\n",
        "         many times the loop should run, and you want it to continue based on a condition that could change during execution.\n",
        "         Example:\n",
        "         Imagine we are asking a user to enter a password until they get it right.\n",
        "         python code example :\n",
        "\n",
        "        correct_password = \"python123\"\n",
        "        user_input = \"\"\n",
        "\n",
        "         while user_input != correct_password:\n",
        "               user_input = input(\"Enter password: \")\n",
        "         print(\"Access granted.\")\n",
        "\n",
        "         We don’t know how many attempts the user will need, so a while loop is ideal—it keeps looping until the correct input is given.\n"
      ],
      "metadata": {
        "id": "sR7L1BAuJW4x"
      }
    },
    {
      "cell_type": "markdown",
      "source": [
        "# Practical Questions"
      ],
      "metadata": {
        "id": "tJHWZNgTQvYu"
      }
    },
    {
      "cell_type": "code",
      "source": [
        "'''\n",
        "Question 1 : Write a Python program to print \"Hello, World!\n",
        "'''\n",
        "print(\"Hello, World!\")"
      ],
      "metadata": {
        "colab": {
          "base_uri": "https://localhost:8080/"
        },
        "id": "LAZIHp-YQqVW",
        "outputId": "e3321ded-ab9c-49ef-c5fc-30e9274df1b9"
      },
      "execution_count": null,
      "outputs": [
        {
          "output_type": "stream",
          "name": "stdout",
          "text": [
            "Hello, World!\n"
          ]
        }
      ]
    },
    {
      "cell_type": "code",
      "source": [
        "'''\n",
        "Question 2 : Write a Python program that displays your name and age\n",
        "'''\n",
        "name = \"Ashish\"\n",
        "age = 21\n",
        "print(\"my name is : \" , name)\n",
        "print(\"my age is : \" , age)"
      ],
      "metadata": {
        "colab": {
          "base_uri": "https://localhost:8080/"
        },
        "id": "Q_wcOuyoRAT_",
        "outputId": "894ddb97-de8a-49e9-87d5-5a0ff815014e"
      },
      "execution_count": null,
      "outputs": [
        {
          "output_type": "stream",
          "name": "stdout",
          "text": [
            "my name is :  Ashish\n",
            "my age is :  21\n"
          ]
        }
      ]
    },
    {
      "cell_type": "code",
      "source": [
        "'''\n",
        "Question 3 : Write code to print all the pre-defined keywords in Python using the keyword library\n",
        "'''\n",
        "\n",
        "import keyword\n",
        "\n",
        "print(\"Python keywords:\")\n",
        "for kw in keyword.kwlist:\n",
        "    print(kw)\n"
      ],
      "metadata": {
        "colab": {
          "base_uri": "https://localhost:8080/"
        },
        "id": "hHvKnWBkRbxp",
        "outputId": "bd3677ae-d796-4a7c-9235-f006e4359f13"
      },
      "execution_count": null,
      "outputs": [
        {
          "output_type": "stream",
          "name": "stdout",
          "text": [
            "Python keywords:\n",
            "False\n",
            "None\n",
            "True\n",
            "and\n",
            "as\n",
            "assert\n",
            "async\n",
            "await\n",
            "break\n",
            "class\n",
            "continue\n",
            "def\n",
            "del\n",
            "elif\n",
            "else\n",
            "except\n",
            "finally\n",
            "for\n",
            "from\n",
            "global\n",
            "if\n",
            "import\n",
            "in\n",
            "is\n",
            "lambda\n",
            "nonlocal\n",
            "not\n",
            "or\n",
            "pass\n",
            "raise\n",
            "return\n",
            "try\n",
            "while\n",
            "with\n",
            "yield\n"
          ]
        }
      ]
    },
    {
      "cell_type": "code",
      "source": [
        "'''\n",
        "Question 4 : Write a program that checks if a given word is a Python keyword.\n",
        "'''\n",
        "import keyword\n",
        "\n",
        "word = input(\"Enter a word to check if it's a Python keyword: \")\n",
        "\n",
        "if keyword.iskeyword(word):\n",
        "    print(f\"'{word}' is a Python keyword.\")\n",
        "else:\n",
        "    print(f\"'{word}' is not a Python keyword.\")\n"
      ],
      "metadata": {
        "colab": {
          "base_uri": "https://localhost:8080/"
        },
        "id": "BKP0v7uKSlpF",
        "outputId": "9e6e342c-f8fc-44a1-c7db-f0410f06dce4"
      },
      "execution_count": null,
      "outputs": [
        {
          "output_type": "stream",
          "name": "stdout",
          "text": [
            "Enter a word to check if it's a Python keyword: if\n",
            "'if' is a Python keyword.\n"
          ]
        }
      ]
    },
    {
      "cell_type": "code",
      "source": [
        "'''\n",
        "Question 5 :  Create a list and tuple in Python, and demonstrate how attempting to change an element works differently for each.\n",
        "'''\n",
        "my_list = [10, 20, 30]\n",
        "my_tuple = (10, 20, 30)\n",
        "\n",
        "my_list[1] = 99\n",
        "print(\"Modified list : \", my_list)\n",
        "\n",
        "my_tuple[1] = 99 #this causes an error as 'tuple' object does not support item assignment\n",
        "print(\"Modified tuple : \", my_tuple)\n"
      ],
      "metadata": {
        "id": "nr9ZcuOqTppL"
      },
      "execution_count": null,
      "outputs": []
    },
    {
      "cell_type": "code",
      "source": [
        "'''\n",
        "Question 6 :  Write a function to demonstrate the behavior of mutable and immutable arguments.\n",
        "'''\n",
        "def modify_arguments(a, b):\n",
        "    a = a + 10\n",
        "    b.append(4)\n",
        "    print(\"Inside function:\")\n",
        "    print(\"a =\", a)\n",
        "    print(\"b =\", b)\n",
        "\n",
        "x = 5\n",
        "y = [1, 2, 3]\n",
        "\n",
        "modify_arguments(x, y)\n",
        "\n",
        "print(\"\\nOutside function:\")\n",
        "print(\"x =\", x)\n",
        "print(\"y =\", y)\n"
      ],
      "metadata": {
        "colab": {
          "base_uri": "https://localhost:8080/"
        },
        "id": "2Gg-a6_LUcMU",
        "outputId": "b188caf7-16ca-4f8d-8bf6-86162e214362"
      },
      "execution_count": null,
      "outputs": [
        {
          "output_type": "stream",
          "name": "stdout",
          "text": [
            "Inside function:\n",
            "a = 15\n",
            "b = [1, 2, 3, 4]\n",
            "\n",
            "Outside function:\n",
            "x = 5\n",
            "y = [1, 2, 3, 4]\n"
          ]
        }
      ]
    },
    {
      "cell_type": "code",
      "source": [
        "'''\n",
        "Question 7 :  Write a program that performs basic arithmetic operations on two user-input numbers\n",
        "'''\n",
        "num1 = float(input(\"Enter first number: \"))\n",
        "num2 = float(input(\"Enter second number: \"))\n",
        "\n",
        "print(\"Addition:\", num1 + num2)\n",
        "print(\"Subtraction:\", num1 - num2)\n",
        "print(\"Multiplication:\", num1 * num2)\n",
        "print(\"Division:\", num1 / num2)\n"
      ],
      "metadata": {
        "colab": {
          "base_uri": "https://localhost:8080/"
        },
        "id": "zxtKnb4aVU2m",
        "outputId": "7029169b-261e-441f-8fa9-52fbae0d9b85"
      },
      "execution_count": null,
      "outputs": [
        {
          "output_type": "stream",
          "name": "stdout",
          "text": [
            "Enter first number: 2\n",
            "Enter second number: 2\n",
            "Addition: 4.0\n",
            "Subtraction: 0.0\n",
            "Multiplication: 4.0\n",
            "Division: 1.0\n"
          ]
        }
      ]
    },
    {
      "cell_type": "code",
      "source": [
        "'''\n",
        "Question 8 :  Write a program to demonstrate the use of logical operators.\n",
        "'''\n",
        "\n",
        "age = int(input(\"Enter your age: \"))\n",
        "has_id = input(\"Do you have an Adhar card? (yes/no): \")\n",
        "\n",
        "has_valid_id = has_id.lower() == \"yes\"\n",
        "\n",
        "if age >= 18 and has_valid_id:\n",
        "    print(\"Access granted.\")\n",
        "elif age >= 18 or has_valid_id:\n",
        "    print(\"Partial access.\")\n",
        "else:\n",
        "    print(\"Access denied.\")\n",
        "\n"
      ],
      "metadata": {
        "colab": {
          "base_uri": "https://localhost:8080/"
        },
        "id": "Clr5JIzDW_Ro",
        "outputId": "408c711f-2c92-4756-cc2c-ff9c9a787015"
      },
      "execution_count": null,
      "outputs": [
        {
          "output_type": "stream",
          "name": "stdout",
          "text": [
            "Enter your age: 21\n",
            "Do you have an Adhar card? (yes/no): yes\n",
            "Access granted.\n"
          ]
        }
      ]
    },
    {
      "cell_type": "code",
      "source": [
        "'''\n",
        "Question 9 :  Write a Python program to convert user input from string to integer, float, and boolean types.\n",
        "'''\n",
        "user_input = input(\"Enter a value: \")\n",
        "\n",
        "int_value = int(user_input)\n",
        "print(\"As integer:\", int_value)\n",
        "\n",
        "float_value = float(user_input)\n",
        "print(\"As float:\", float_value)\n",
        "\n",
        "bool_value = bool(int_value)\n",
        "print(\"As boolean:\", bool_value)\n"
      ],
      "metadata": {
        "colab": {
          "base_uri": "https://localhost:8080/"
        },
        "id": "e1q_d8m4YS6l",
        "outputId": "c6612d84-18d1-4b00-d5bc-87a17ba518ea"
      },
      "execution_count": null,
      "outputs": [
        {
          "output_type": "stream",
          "name": "stdout",
          "text": [
            "Enter a value: 0\n",
            "As integer: 0\n",
            "As float: 0.0\n",
            "As boolean: False\n"
          ]
        }
      ]
    },
    {
      "cell_type": "code",
      "source": [
        "'''\n",
        "Question 10 :  Write code to demonstrate type casting with list elements\n",
        "'''\n",
        "str_list = [\"10\", \"20\", \"30\", \"0\"]\n",
        "\n",
        "int_list = [int(x) for x in str_list]\n",
        "print(\"Integer list:\", int_list)\n",
        "\n",
        "float_list = [float(x) for x in str_list]\n",
        "print(\"Float list:\", float_list)\n",
        "\n",
        "bool_list = [bool(int(x)) for x in str_list]\n",
        "print(\"Boolean list:\", bool_list)\n"
      ],
      "metadata": {
        "colab": {
          "base_uri": "https://localhost:8080/"
        },
        "id": "onVGvUvdZdUz",
        "outputId": "00620cfc-1e89-4a61-ee38-8e9dffb59c6d"
      },
      "execution_count": null,
      "outputs": [
        {
          "output_type": "stream",
          "name": "stdout",
          "text": [
            "Integer list: [10, 20, 30, 0]\n",
            "Float list: [10.0, 20.0, 30.0, 0.0]\n",
            "Boolean list: [True, True, True, False]\n"
          ]
        }
      ]
    },
    {
      "cell_type": "code",
      "source": [
        "'''\n",
        "Question 11 :  Write a program that checks if a number is positive, negative, or zero.\n",
        "'''\n",
        "num = float(input(\"Enter a number: \"))\n",
        "\n",
        "if num > 0:\n",
        "    print(\"The number is positive.\")\n",
        "elif num < 0:\n",
        "    print(\"The number is negative.\")\n",
        "else:\n",
        "    print(\"The number is zero.\")\n"
      ],
      "metadata": {
        "colab": {
          "base_uri": "https://localhost:8080/"
        },
        "id": "OM4SXvKtNSME",
        "outputId": "aeba2e16-d0a4-425e-cee8-5dbcf949a16d"
      },
      "execution_count": null,
      "outputs": [
        {
          "output_type": "stream",
          "name": "stdout",
          "text": [
            "Enter a number: 5\n",
            "The number is positive.\n"
          ]
        }
      ]
    },
    {
      "cell_type": "code",
      "source": [
        "'''\n",
        "Question 12 : Write a for loop to print numbers from 1 to 10.\n",
        "'''\n",
        "for i in range(1,11):\n",
        "  print(i)"
      ],
      "metadata": {
        "colab": {
          "base_uri": "https://localhost:8080/"
        },
        "id": "LK9Kp4JiUD_x",
        "outputId": "e56eb465-4f6e-4cb5-e9f1-29c886125371"
      },
      "execution_count": null,
      "outputs": [
        {
          "output_type": "stream",
          "name": "stdout",
          "text": [
            "1\n",
            "2\n",
            "3\n",
            "4\n",
            "5\n",
            "6\n",
            "7\n",
            "8\n",
            "9\n",
            "10\n"
          ]
        }
      ]
    },
    {
      "cell_type": "code",
      "source": [
        "'''\n",
        "Question 13 : Write a Python program to find the sum of all even numbers between 1 and 50\n",
        "'''\n",
        "sum_even = 0\n",
        "sum_odd = 0\n",
        "for i in range(1,51):\n",
        "    if i % 2 == 0:\n",
        "      sum_even = sum_even + i\n",
        "\n",
        "print(\"sum of even numbers between 1 to 50 : \" , sum_even)"
      ],
      "metadata": {
        "colab": {
          "base_uri": "https://localhost:8080/"
        },
        "id": "QW0H9kzfUT4O",
        "outputId": "d734fd0c-296b-4667-8197-ec7e1def6ccf"
      },
      "execution_count": null,
      "outputs": [
        {
          "output_type": "stream",
          "name": "stdout",
          "text": [
            "sum of even numbers :  650\n"
          ]
        }
      ]
    },
    {
      "cell_type": "code",
      "source": [
        "'''\n",
        "Question 14 : Write a program to reverse a string using a while loop.\n",
        "'''\n",
        "text = input(\"Enter a string: \")\n",
        "\n",
        "reversed_text = \"\"\n",
        "index = len(text) - 1\n",
        "\n",
        "while index >= 0:\n",
        "    reversed_text += text[index]\n",
        "    index -= 1\n",
        "\n",
        "print(\"Reversed string:\", reversed_text)\n"
      ],
      "metadata": {
        "colab": {
          "base_uri": "https://localhost:8080/"
        },
        "id": "1HMQfRT0VTUS",
        "outputId": "97b802c2-e95a-4b07-8dce-b6af96acafa8"
      },
      "execution_count": null,
      "outputs": [
        {
          "output_type": "stream",
          "name": "stdout",
          "text": [
            "Enter a string: ashish\n",
            "Reversed string: hsihsa\n"
          ]
        }
      ]
    },
    {
      "cell_type": "code",
      "source": [
        "'''\n",
        "Question 15 : Write a Python program to calculate the factorial of a number provided by the user using a while loop\n",
        "'''\n",
        "number = int(input(\"enter a number : \"))\n",
        "factorial = 1\n",
        "\n",
        "for i in range(1,number+1):\n",
        "  factorial = factorial * i\n",
        "  i = i - 1\n",
        "\n",
        "print(\"factorial of given numberr is : \" , factorial)"
      ],
      "metadata": {
        "colab": {
          "base_uri": "https://localhost:8080/"
        },
        "id": "UYc2PoLLWRiB",
        "outputId": "0b071664-b481-4eee-de35-8dc64e981ab4"
      },
      "execution_count": null,
      "outputs": [
        {
          "output_type": "stream",
          "name": "stdout",
          "text": [
            "enter a number : 10\n",
            "factorial of given numberr is :  3628800\n"
          ]
        }
      ]
    },
    {
      "cell_type": "code",
      "source": [],
      "metadata": {
        "id": "HU0vbdUOX1VE"
      },
      "execution_count": null,
      "outputs": []
    }
  ]
}