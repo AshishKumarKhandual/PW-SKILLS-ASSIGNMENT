{
  "nbformat": 4,
  "nbformat_minor": 0,
  "metadata": {
    "colab": {
      "provenance": []
    },
    "kernelspec": {
      "name": "python3",
      "display_name": "Python 3"
    },
    "language_info": {
      "name": "python"
    }
  },
  "cells": [
    {
      "cell_type": "markdown",
      "source": [
        "# Theory Questions\n"
      ],
      "metadata": {
        "id": "mq-nxd_KcBoe"
      }
    },
    {
      "cell_type": "markdown",
      "source": [
        "1. What is the difference between a function and a method in Python?\n",
        "\n",
        "Answer : Function: A block of reusable code that performs a specific task. It is defined using the def keyword and can be independent of any object.\n",
        "\n",
        "Method: A function that is associated with an object. It is called on an object and can access its data.\n",
        "\n",
        "Example:\n",
        "\n",
        "def greet():\n",
        "    return \"Hello\"\n",
        "\n",
        "text = \"hello\"\n",
        "print(text.upper())\n",
        "\n",
        "2. Explain the concept of function arguments and parameters in Python.\n",
        "\n",
        "Answer : Parameters are variables listed in a function definition.\n",
        "\n",
        "Arguments are the actual values passed to the function when it is called.\n",
        "\n",
        "Example:\n",
        "\n",
        "def add(a, b):\n",
        "    return a + b\n",
        "\n",
        "print(add(2, 3))\n",
        "\n",
        "3. What are the different ways to define and call a function in Python?\n",
        "Answer :\n",
        "Define using def:\n",
        "def say_hello():\n",
        "\n",
        "    print(\"Hello\")\n",
        "\n",
        "Call a function:\n",
        "\n",
        "say_hello()\n",
        "\n",
        "Using lambda:\n",
        "\n",
        "square = lambda x: x * x\n",
        "\n",
        "print(square(4))\n",
        "\n",
        "Using functools.partial:\n",
        "\n",
        "from functools import partial\n",
        "\n",
        "def multiply(x, y): return x * y\n",
        "\n",
        "double = partial(multiply, 2)\n",
        "\n",
        "print(double(5))\n",
        "\n",
        "4. What is the purpose of the return statement in a Python function?\n",
        "Answer : It ends the function and optionally passes back a value to the caller.\n",
        "\n",
        "Example:\n",
        "\n",
        "def get_sum(a, b):\n",
        "\n",
        "    return a + b\n",
        "\n",
        "5. What are iterators in Python and how do they differ from iterables?\n",
        " Answer : Iterable: An object that can return an iterator (e.g., list, tuple).\n",
        "\n",
        "Iterator: An object with __iter__() and __next__() methods.\n",
        "\n",
        "Example:\n",
        "\n",
        "my_list = [1, 2, 3]        \n",
        "it = iter(my_list)         \n",
        "print(next(it))             \n",
        "\n",
        "6. Explain the concept of generators in Python and how they are defined.\n",
        "Answer : Generators are functions that yield values one at a time using the yield keyword and maintain state between calls.\n",
        "\n",
        "Example:\n",
        "\n",
        "def countdown(n):\n",
        "    while n > 0:\n",
        "        yield n\n",
        "        n -= 1\n",
        "\n",
        "for i in countdown(3):\n",
        "\n",
        "    print(i)\n",
        "\n",
        "7. What are the advantages of using generators over regular functions?\n",
        "Answer : Memory efficient (don't store all values at once)\n",
        "\n",
        "Useful for large datasets or infinite sequences\n",
        "\n",
        "Lazy evaluation (generate values on the fly)\n",
        "\n",
        "8. What is a lambda function in Python and when is it typically used?\n",
        "Answer : A small anonymous function defined using lambda. It's used for short, simple functions, especially with functions like map, filter.\n",
        "\n",
        "Example:\n",
        "\n",
        "square = lambda x: x**2\n",
        "\n",
        "print(square(5))\n",
        "\n",
        "\n",
        "9. Explain the purpose and usage of the map() function in Python.\n",
        "Answer : Applies a function to every item of an iterable.\n",
        "\n",
        "Example:\n",
        "\n",
        "nums = [1, 2, 3]\n",
        "\n",
        "squared = list(map(lambda x: x**2, nums))\n",
        "\n",
        "print(squared)\n",
        "\n",
        "10. What is the difference between map(), reduce(), and filter() functions in Python?\n",
        "\n",
        "Answer : Function\tPurpose\n",
        "\n",
        "map()\tApplies a function to each element\tand Returns New iterable\n",
        "\n",
        "filter()\tFilters elements based on condition\tand Returns New iterable\n",
        "\n",
        "reduce()\tApplies rolling computation to pairs\tand Returns Single value\n",
        "\n",
        "\n"
      ],
      "metadata": {
        "id": "a_XwPt63cIdB"
      }
    },
    {
      "cell_type": "markdown",
      "source": [],
      "metadata": {
        "id": "Ql_qqyJkno4f"
      }
    },
    {
      "cell_type": "code",
      "source": [
        "from google.colab  import files\n",
        "from IPython.display import Image"
      ],
      "metadata": {
        "id": "IMxRGDqToPFE"
      },
      "execution_count": 4,
      "outputs": []
    },
    {
      "cell_type": "code",
      "source": [
        "uploaded = files.upload()"
      ],
      "metadata": {
        "colab": {
          "base_uri": "https://localhost:8080/",
          "height": 73
        },
        "id": "tnTe-gY7oSiU",
        "outputId": "600ea645-824e-497d-8828-f9e739bf661b"
      },
      "execution_count": 5,
      "outputs": [
        {
          "output_type": "display_data",
          "data": {
            "text/plain": [
              "<IPython.core.display.HTML object>"
            ],
            "text/html": [
              "\n",
              "     <input type=\"file\" id=\"files-9c3ff8d0-6706-4d21-b618-407332de3ddc\" name=\"files[]\" multiple disabled\n",
              "        style=\"border:none\" />\n",
              "     <output id=\"result-9c3ff8d0-6706-4d21-b618-407332de3ddc\">\n",
              "      Upload widget is only available when the cell has been executed in the\n",
              "      current browser session. Please rerun this cell to enable.\n",
              "      </output>\n",
              "      <script>// Copyright 2017 Google LLC\n",
              "//\n",
              "// Licensed under the Apache License, Version 2.0 (the \"License\");\n",
              "// you may not use this file except in compliance with the License.\n",
              "// You may obtain a copy of the License at\n",
              "//\n",
              "//      http://www.apache.org/licenses/LICENSE-2.0\n",
              "//\n",
              "// Unless required by applicable law or agreed to in writing, software\n",
              "// distributed under the License is distributed on an \"AS IS\" BASIS,\n",
              "// WITHOUT WARRANTIES OR CONDITIONS OF ANY KIND, either express or implied.\n",
              "// See the License for the specific language governing permissions and\n",
              "// limitations under the License.\n",
              "\n",
              "/**\n",
              " * @fileoverview Helpers for google.colab Python module.\n",
              " */\n",
              "(function(scope) {\n",
              "function span(text, styleAttributes = {}) {\n",
              "  const element = document.createElement('span');\n",
              "  element.textContent = text;\n",
              "  for (const key of Object.keys(styleAttributes)) {\n",
              "    element.style[key] = styleAttributes[key];\n",
              "  }\n",
              "  return element;\n",
              "}\n",
              "\n",
              "// Max number of bytes which will be uploaded at a time.\n",
              "const MAX_PAYLOAD_SIZE = 100 * 1024;\n",
              "\n",
              "function _uploadFiles(inputId, outputId) {\n",
              "  const steps = uploadFilesStep(inputId, outputId);\n",
              "  const outputElement = document.getElementById(outputId);\n",
              "  // Cache steps on the outputElement to make it available for the next call\n",
              "  // to uploadFilesContinue from Python.\n",
              "  outputElement.steps = steps;\n",
              "\n",
              "  return _uploadFilesContinue(outputId);\n",
              "}\n",
              "\n",
              "// This is roughly an async generator (not supported in the browser yet),\n",
              "// where there are multiple asynchronous steps and the Python side is going\n",
              "// to poll for completion of each step.\n",
              "// This uses a Promise to block the python side on completion of each step,\n",
              "// then passes the result of the previous step as the input to the next step.\n",
              "function _uploadFilesContinue(outputId) {\n",
              "  const outputElement = document.getElementById(outputId);\n",
              "  const steps = outputElement.steps;\n",
              "\n",
              "  const next = steps.next(outputElement.lastPromiseValue);\n",
              "  return Promise.resolve(next.value.promise).then((value) => {\n",
              "    // Cache the last promise value to make it available to the next\n",
              "    // step of the generator.\n",
              "    outputElement.lastPromiseValue = value;\n",
              "    return next.value.response;\n",
              "  });\n",
              "}\n",
              "\n",
              "/**\n",
              " * Generator function which is called between each async step of the upload\n",
              " * process.\n",
              " * @param {string} inputId Element ID of the input file picker element.\n",
              " * @param {string} outputId Element ID of the output display.\n",
              " * @return {!Iterable<!Object>} Iterable of next steps.\n",
              " */\n",
              "function* uploadFilesStep(inputId, outputId) {\n",
              "  const inputElement = document.getElementById(inputId);\n",
              "  inputElement.disabled = false;\n",
              "\n",
              "  const outputElement = document.getElementById(outputId);\n",
              "  outputElement.innerHTML = '';\n",
              "\n",
              "  const pickedPromise = new Promise((resolve) => {\n",
              "    inputElement.addEventListener('change', (e) => {\n",
              "      resolve(e.target.files);\n",
              "    });\n",
              "  });\n",
              "\n",
              "  const cancel = document.createElement('button');\n",
              "  inputElement.parentElement.appendChild(cancel);\n",
              "  cancel.textContent = 'Cancel upload';\n",
              "  const cancelPromise = new Promise((resolve) => {\n",
              "    cancel.onclick = () => {\n",
              "      resolve(null);\n",
              "    };\n",
              "  });\n",
              "\n",
              "  // Wait for the user to pick the files.\n",
              "  const files = yield {\n",
              "    promise: Promise.race([pickedPromise, cancelPromise]),\n",
              "    response: {\n",
              "      action: 'starting',\n",
              "    }\n",
              "  };\n",
              "\n",
              "  cancel.remove();\n",
              "\n",
              "  // Disable the input element since further picks are not allowed.\n",
              "  inputElement.disabled = true;\n",
              "\n",
              "  if (!files) {\n",
              "    return {\n",
              "      response: {\n",
              "        action: 'complete',\n",
              "      }\n",
              "    };\n",
              "  }\n",
              "\n",
              "  for (const file of files) {\n",
              "    const li = document.createElement('li');\n",
              "    li.append(span(file.name, {fontWeight: 'bold'}));\n",
              "    li.append(span(\n",
              "        `(${file.type || 'n/a'}) - ${file.size} bytes, ` +\n",
              "        `last modified: ${\n",
              "            file.lastModifiedDate ? file.lastModifiedDate.toLocaleDateString() :\n",
              "                                    'n/a'} - `));\n",
              "    const percent = span('0% done');\n",
              "    li.appendChild(percent);\n",
              "\n",
              "    outputElement.appendChild(li);\n",
              "\n",
              "    const fileDataPromise = new Promise((resolve) => {\n",
              "      const reader = new FileReader();\n",
              "      reader.onload = (e) => {\n",
              "        resolve(e.target.result);\n",
              "      };\n",
              "      reader.readAsArrayBuffer(file);\n",
              "    });\n",
              "    // Wait for the data to be ready.\n",
              "    let fileData = yield {\n",
              "      promise: fileDataPromise,\n",
              "      response: {\n",
              "        action: 'continue',\n",
              "      }\n",
              "    };\n",
              "\n",
              "    // Use a chunked sending to avoid message size limits. See b/62115660.\n",
              "    let position = 0;\n",
              "    do {\n",
              "      const length = Math.min(fileData.byteLength - position, MAX_PAYLOAD_SIZE);\n",
              "      const chunk = new Uint8Array(fileData, position, length);\n",
              "      position += length;\n",
              "\n",
              "      const base64 = btoa(String.fromCharCode.apply(null, chunk));\n",
              "      yield {\n",
              "        response: {\n",
              "          action: 'append',\n",
              "          file: file.name,\n",
              "          data: base64,\n",
              "        },\n",
              "      };\n",
              "\n",
              "      let percentDone = fileData.byteLength === 0 ?\n",
              "          100 :\n",
              "          Math.round((position / fileData.byteLength) * 100);\n",
              "      percent.textContent = `${percentDone}% done`;\n",
              "\n",
              "    } while (position < fileData.byteLength);\n",
              "  }\n",
              "\n",
              "  // All done.\n",
              "  yield {\n",
              "    response: {\n",
              "      action: 'complete',\n",
              "    }\n",
              "  };\n",
              "}\n",
              "\n",
              "scope.google = scope.google || {};\n",
              "scope.google.colab = scope.google.colab || {};\n",
              "scope.google.colab._files = {\n",
              "  _uploadFiles,\n",
              "  _uploadFilesContinue,\n",
              "};\n",
              "})(self);\n",
              "</script> "
            ]
          },
          "metadata": {}
        },
        {
          "output_type": "stream",
          "name": "stdout",
          "text": [
            "Saving assignment pic.jpg to assignment pic.jpg\n"
          ]
        }
      ]
    },
    {
      "cell_type": "markdown",
      "source": [
        "# Practical Question"
      ],
      "metadata": {
        "id": "qi1DihTwpulC"
      }
    },
    {
      "cell_type": "code",
      "source": [
        "'''\n",
        "1. Write a Python function that takes a list of numbers as input and returns the sum of all even numbers in\n",
        "the list.\n",
        "'''\n",
        "\n",
        "def sum_of_evens(numbers):\n",
        "    return sum(num for num in numbers if num % 2 == 0)\n",
        "\n",
        "print(sum_of_evens([1, 2, 3, 4, 5, 6]))\n"
      ],
      "metadata": {
        "id": "fdYL6m_Bpd07"
      },
      "execution_count": null,
      "outputs": []
    },
    {
      "cell_type": "code",
      "source": [
        "'''\n",
        "2. Create a Python function that accepts a string and returns the reverse of that string.\n",
        "'''\n",
        "\n",
        "def reverse_string(s):\n",
        "    return s[::-1]\n",
        "\n",
        "print(reverse_string(\"hello\"))\n"
      ],
      "metadata": {
        "id": "igaeHJlHqNcs"
      },
      "execution_count": null,
      "outputs": []
    },
    {
      "cell_type": "code",
      "source": [
        "'''\n",
        "3. Implement a Python function that takes a list of integers and returns a new list containing the squares of\n",
        "each number.\n",
        "'''\n",
        "\n",
        "def square_list(numbers):\n",
        "    return [num ** 2 for num in numbers]\n",
        "\n",
        "print(square_list([1, 2, 3, 4]))\n"
      ],
      "metadata": {
        "id": "Uk2ioBOUqXgs"
      },
      "execution_count": null,
      "outputs": []
    },
    {
      "cell_type": "code",
      "source": [
        "'''\n",
        "4. Write a Python function that checks if a given number is prime or not from 1 to 200.\n",
        "'''\n",
        "def is_prime(n):\n",
        "    if n <= 1:\n",
        "        return False\n",
        "    for i in range(2, int(n**0.5) + 1):\n",
        "        if n % i == 0:\n",
        "            return False\n",
        "    return True\n",
        "\n",
        "primes = [n for n in range(1, 201) if is_prime(n)]\n",
        "print(primes)\n"
      ],
      "metadata": {
        "id": "J8fdUpHHqoEv"
      },
      "execution_count": null,
      "outputs": []
    },
    {
      "cell_type": "code",
      "source": [
        "'''\n",
        "5. Create an iterator class in Python that generates the Fibonacci sequence up to a specified number of\n",
        "terms.\n",
        "'''\n",
        "class FibonacciIterator:\n",
        "    def __init__(self, max_terms):\n",
        "        self.max_terms = max_terms\n",
        "        self.count = 0\n",
        "        self.a, self.b = 0, 1\n",
        "\n",
        "    def __iter__(self):\n",
        "        return self\n",
        "\n",
        "    def __next__(self):\n",
        "        if self.count >= self.max_terms:\n",
        "            raise StopIteration\n",
        "        self.count += 1\n",
        "        result = self.a\n",
        "        self.a, self.b = self.b, self.a + self.b\n",
        "        return result\n",
        "\n",
        "for num in FibonacciIterator(10):\n",
        "    print(num, end=\" \")\n"
      ],
      "metadata": {
        "id": "7QQF_SWNq6vQ"
      },
      "execution_count": null,
      "outputs": []
    },
    {
      "cell_type": "code",
      "source": [
        "'''\n",
        "6. Write a generator function in Python that yields the powers of 2 up to a given exponent.\n",
        "'''\n",
        "def powers_of_two(max_exp):\n",
        "    for i in range(max_exp + 1):\n",
        "        yield 2 ** i\n",
        "\n",
        "for val in powers_of_two(5):\n",
        "    print(val)\n"
      ],
      "metadata": {
        "id": "zHf69s3JrFWM"
      },
      "execution_count": null,
      "outputs": []
    },
    {
      "cell_type": "code",
      "source": [
        "'''\n",
        "7. Implement a generator function that reads a file line by line and yields each line as a string.\n",
        "'''\n",
        "def read_lines(file_path):\n",
        "    with open(file_path, 'r') as f:\n",
        "        for line in f:\n",
        "            yield line.strip()\n",
        "\n",
        "# Example (requires a real file path)\n",
        "# for line in read_lines(\"sample.txt\"):\n",
        "#     print(line)\n"
      ],
      "metadata": {
        "id": "i7zJ-XlCrQll"
      },
      "execution_count": null,
      "outputs": []
    },
    {
      "cell_type": "code",
      "source": [
        "'''\n",
        "8. Use a lambda function in Python to sort a list of tuples based on the second element of each tuple\n",
        "'''\n",
        "tuples = [(1, 3), (4, 1), (2, 2)]\n",
        "sorted_tuples = sorted(tuples, key=lambda x: x[1])\n",
        "print(sorted_tuples)  # Output: [(4, 1), (2, 2), (1, 3)]\n"
      ],
      "metadata": {
        "id": "epvcifnBreRF"
      },
      "execution_count": null,
      "outputs": []
    },
    {
      "cell_type": "code",
      "source": [
        "'''\n",
        "9. Write a Python program that uses `map()` to convert a list of temperatures from Celsius to Fahrenheit\n",
        "'''\n",
        "celsius = [0, 20, 30, 40]\n",
        "fahrenheit = list(map(lambda c: (c * 9/5) + 32, celsius))\n",
        "print(fahrenheit)  # Output: [32.0, 68.0, 86.0, 104.0]\n"
      ],
      "metadata": {
        "id": "tDiWntm0rigy"
      },
      "execution_count": null,
      "outputs": []
    },
    {
      "cell_type": "code",
      "source": [
        "'''\n",
        "10. Create a Python program that uses `filter()` to remove all the vowels from a given string.\n",
        "'''\n",
        "def remove_vowels(s):\n",
        "    vowels = \"aeiouAEIOU\"\n",
        "    return ''.join(filter(lambda ch: ch not in vowels, s))\n",
        "\n",
        "print(remove_vowels(\"Hello World\"))\n"
      ],
      "metadata": {
        "id": "RHKTUrxVrqA9"
      },
      "execution_count": null,
      "outputs": []
    },
    {
      "cell_type": "code",
      "source": [
        "'''Questioin 11'''\n",
        "orders = [\n",
        "    [34587, \"Learning Python, Mark Lutz\", 4, 40.95],\n",
        "    [98762, \"Programming Python, Mark Lutz\", 5, 56.80],\n",
        "    [77226, \"Head First Python, Paul Barry\", 3, 32.95],\n",
        "    [88112, \"Einführung in Python3, Bernd Klein\", 3, 24.99]\n",
        "]\n",
        "\n",
        "result = list(map(\n",
        "    lambda order: (\n",
        "        order[0],\n",
        "        round(order[2] * order[3] + (10 if order[2] * order[3] < 100 else 0), 2)\n",
        "    ),\n",
        "    orders\n",
        "))\n",
        "\n",
        "print(result)\n"
      ],
      "metadata": {
        "colab": {
          "base_uri": "https://localhost:8080/"
        },
        "id": "EM5IM6_hr0Sn",
        "outputId": "1a159a79-24a4-4ccf-8820-081df6a2c762"
      },
      "execution_count": 6,
      "outputs": [
        {
          "output_type": "stream",
          "name": "stdout",
          "text": [
            "[(34587, 163.8), (98762, 284.0), (77226, 108.85), (88112, 84.97)]\n"
          ]
        }
      ]
    },
    {
      "cell_type": "code",
      "source": [],
      "metadata": {
        "id": "Q-qA6CjusOV_"
      },
      "execution_count": null,
      "outputs": []
    }
  ]
}