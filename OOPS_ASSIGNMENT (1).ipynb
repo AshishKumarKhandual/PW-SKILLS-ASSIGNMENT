{
  "nbformat": 4,
  "nbformat_minor": 0,
  "metadata": {
    "colab": {
      "provenance": []
    },
    "kernelspec": {
      "name": "python3",
      "display_name": "Python 3"
    },
    "language_info": {
      "name": "python"
    }
  },
  "cells": [
    {
      "cell_type": "markdown",
      "source": [
        "# Theory Questions\n"
      ],
      "metadata": {
        "id": "KDMmhFJ8Nk8t"
      }
    },
    {
      "cell_type": "markdown",
      "source": [
        "1. What is Object-Oriented Programming (OOP)?\n",
        "\n",
        "OOP is a programming paradigm based on the concept of objects, which encapsulate data and behavior. It emphasizes modularity, reusability, and abstraction using key concepts like classes, objects, inheritance, polymorphism, encapsulation, and abstraction.\n",
        "\n",
        "2. What is a class in OOP?\n",
        "\n",
        "A class is a blueprint for creating objects. It defines attributes (variables) and methods (functions) that describe the behavior and state of its objects.\n",
        "\n",
        "3. What is an object in OOP?\n",
        "\n",
        "An object is an instance of a class. It contains actual values for the attributes and can use the methods defined by the class.\n",
        "\n",
        "4. Difference between abstraction and encapsulation\n",
        "\n",
        "Abstraction hides complex implementation details and shows only essential features.\n",
        "\n",
        "Encapsulation restricts direct access to some of an object's components, bundling data and methods together.\n",
        "\n",
        "5. What are dunder methods in Python?\n",
        "\n",
        "Dunder methods (short for “double underscore”), like __init__, __str__, and __len__, are special methods used to define the behavior of Python objects (e.g., construction, string representation, operator overloading).\n",
        "\n",
        "6. Explain the concept of inheritance in OOP\n",
        "\n",
        "Inheritance allows one class (child) to inherit the attributes and methods of another (parent), enabling code reuse and polymorphism.\n",
        "\n",
        "7. What is polymorphism in OOP?\n",
        "\n",
        "Polymorphism allows different classes to be treated as instances of the same class through a common interface, allowing the same method to behave differently on different classes.\n",
        "\n",
        "8. How is encapsulation achieved in Python?\n",
        "\n",
        "Encapsulation is achieved by using:\n",
        "\n",
        "_single_underscore: Protected members (by convention).\n",
        "\n",
        "__double_underscore: Private members (name mangling to avoid access).\n",
        "\n",
        "9. What is a constructor in Python?\n",
        "\n",
        "A constructor is the __init__ method in Python. It initializes new object instances.\n",
        "\n",
        "class Person:\n",
        "    def __init__(self, name):\n",
        "        self.name = name\n",
        "10. What are class and static methods in Python?\n",
        "\n",
        "@classmethod: Takes cls as the first argument, affects the class state.\n",
        "\n",
        "@staticmethod: No automatic first argument; behaves like a regular function inside the class.\n",
        "\n",
        "11. What is method overloading in Python?\n",
        "\n",
        "Python does not support true method overloading. You typically use default arguments or *args and **args to simulate it.\n",
        "\n",
        "12. What is method overriding in OOP?\n",
        "\n",
        "Method overriding is when a subclass provides a new implementation of a method inherited from its parent class.\n",
        "\n",
        "13. What is a property decorator in Python?\n",
        "\n",
        "@property allows you to define a method that can be accessed like an attribute. Used for controlled access to instance data.\n",
        "\n",
        "14. Why is polymorphism important in OOP?\n",
        "\n",
        "It allows for flexibility and reusability in code. You can write generic code that works with different types of objects seamlessly.\n",
        "\n",
        "15. What is an abstract class in Python?\n",
        "\n",
        "An abstract class cannot be instantiated and may contain abstract methods (defined but not implemented). Defined using abc module and @abstractmethod decorator.\n",
        "\n",
        "16. What are the advantages of OOP?\n",
        "\n",
        "Code reuse through inheritance\n",
        "\n",
        "Modular structure\n",
        "\n",
        "Easier maintenance and debugging\n",
        "\n",
        "Scalability\n",
        "\n",
        "Real-world modeling\n",
        "\n",
        "17. Difference between class variable and instance variable\n",
        "\n",
        "Class variable: Shared among all instances (ClassName.var).\n",
        "\n",
        "Instance variable: Unique to each instance (self.var).\n",
        "\n",
        "18. What is multiple inheritance in Python?\n",
        "\n",
        "\n",
        "When a class inherits from more than one parent class. Python uses Method Resolution Order (MRO) to resolve conflicts.\n",
        "\n",
        "class A: pass\n",
        "class B: pass\n",
        "class C(A, B): pass\n",
        "\n",
        "19. Purpose of __str__ and __repr__ in Python\n",
        "\n",
        "__str__: Human-readable string (print(obj)).\n",
        "\n",
        "__repr__: Unambiguous string used for debugging (repr(obj)).\n",
        "\n",
        "20. Significance of super() function in Python\n",
        "\n",
        "super() gives access to methods of a parent or sibling class. Commonly used in constructors to initialize parent class.\n",
        "\n",
        "21. Significance of __del__ method in Python\n",
        "\n",
        "Called when an object is about to be destroyed (garbage collected). Used for cleanup, but should be used sparingly.\n",
        "\n",
        "22. Difference between @staticmethod and @classmethod in python\n",
        "\n",
        "@staticmethod\n",
        "A @staticmethod is a method that does not take self or cls as its first argument.\n",
        "\n",
        "It behaves like a plain function that happens to be inside a class.\n",
        "\n",
        "It cannot access or modify class or instance variables.\n",
        "\n",
        "@classmethod\n",
        "A @classmethod takes cls (the class itself) as its first argument.\n",
        "\n",
        "It can access and modify class state, including class variables.\n",
        "\n",
        "It's often used for factory methods that return instances of the class.\n",
        "\n",
        "23. How does polymorphism work in Python with inheritance?\n",
        "\n",
        "Derived classes can override methods from base classes, and the same method call can execute different behaviors based on the object type.\n",
        "\n",
        "24. What is method chaining in Python OOP?\n",
        "\n",
        "A technique where methods return self to allow multiple method calls in a single line.\n",
        "\n",
        "class Person:\n",
        "    def set_name(self, name):\n",
        "        self.name = name\n",
        "        return self\n",
        "25. What is the purpose of the __call__ method in Python?\n",
        "\n",
        "It allows an object to be called like a function.\n",
        "\n",
        "class Greeter:\n",
        "    def __call__(self, name):\n",
        "        return f\"Hello, {name}!\""
      ],
      "metadata": {
        "id": "YCUsAElxNvMm"
      }
    },
    {
      "cell_type": "code",
      "source": [
        "'''question 1 :\n",
        "Create a parent class Animal with a method speak() that prints a generic message. Create a child class Dog\n",
        "that overrides the speak() method to print \"Bark!\".\n",
        "'''\n",
        "class Animal:\n",
        "    def speak(self):\n",
        "        print(\"The animal makes a sound\")\n",
        "\n",
        "class Dog(Animal):\n",
        "    def speak(self):\n",
        "        print(\"Bark!\")\n"
      ],
      "metadata": {
        "id": "e2DRr9zjO6VQ"
      },
      "execution_count": null,
      "outputs": []
    },
    {
      "cell_type": "code",
      "execution_count": null,
      "metadata": {
        "id": "xqdx0uveNizx"
      },
      "outputs": [],
      "source": [
        "'''question 2 :\n",
        "Write a program to create an abstract class Shape with a method area(). Derive classes Circle and Rectangle\n",
        "from it and implement the area() method in both.\n",
        "'''\n",
        "from abc import ABC, abstractmethod\n",
        "\n",
        "class Shape(ABC):\n",
        "    @abstractmethod\n",
        "    def area(self):\n",
        "        pass\n",
        "\n",
        "class Circle(Shape):\n",
        "    def __init__(self, radius):\n",
        "        self.radius = radius\n",
        "\n",
        "    def area(self):\n",
        "        return 3.14 * self.radius * self.radius\n",
        "\n",
        "class Rectangle(Shape):\n",
        "    def __init__(self, width, height):\n",
        "        self.width = width\n",
        "        self.height = height\n",
        "\n",
        "    def area(self):\n",
        "        return self.width * self.height\n"
      ]
    },
    {
      "cell_type": "code",
      "source": [
        "'''question 3 :\n",
        "Implement a multi-level inheritance scenario where a class Vehicle has an attribute type. Derive a class Car\n",
        "and further derive a class ElectricCar that adds a battery attribute.\n",
        "\n",
        "'''\n",
        "class Vehicle:\n",
        "    def __init__(self, type):\n",
        "        self.type = type\n",
        "\n",
        "class Car(Vehicle):\n",
        "    def __init__(self, type, model):\n",
        "        super().__init__(type)\n",
        "        self.model = model\n",
        "\n",
        "class ElectricCar(Car):\n",
        "    def __init__(self, type, model, battery):\n",
        "        super().__init__(type, model)\n",
        "        self.battery = battery\n"
      ],
      "metadata": {
        "id": "ZzEa-Wl-P0jE"
      },
      "execution_count": null,
      "outputs": []
    },
    {
      "cell_type": "code",
      "source": [
        "'''question 4 :\n",
        "Demonstrate polymorphism by creating a base class Bird with a method fly(). Create two derived classes\n",
        "Sparrow and Penguin that override the fly() method.\n",
        "'''\n",
        "class Bird:\n",
        "    def fly(self):\n",
        "        print(\"Bird is flying\")\n",
        "\n",
        "class Sparrow(Bird):\n",
        "    def fly(self):\n",
        "        print(\"Sparrow can fly\")\n",
        "\n",
        "class Penguin(Bird):\n",
        "    def fly(self):\n",
        "        print(\"Penguin cannot fly\")\n"
      ],
      "metadata": {
        "id": "1ldeMqn3P-bz"
      },
      "execution_count": null,
      "outputs": []
    },
    {
      "cell_type": "code",
      "source": [
        "'''Question 5 :\n",
        "Write a program to demonstrate encapsulation by creating a class BankAccount with private attributes\n",
        "balance and methods to deposit, withdraw, and check balance.\n",
        "'''\n",
        "class BankAccount:\n",
        "    def __init__(self, balance=0):\n",
        "        self.__balance = balance\n",
        "\n",
        "    def deposit(self, amount):\n",
        "        self.__balance += amount\n",
        "\n",
        "    def withdraw(self, amount):\n",
        "        if amount <= self.__balance:\n",
        "            self.__balance -= amount\n",
        "        else:\n",
        "            print(\"Insufficient funds\")\n",
        "\n",
        "    def check_balance(self):\n",
        "        return self.__balance\n"
      ],
      "metadata": {
        "id": "m3uiD-fFQJOK"
      },
      "execution_count": null,
      "outputs": []
    },
    {
      "cell_type": "code",
      "source": [
        "'''Question 6 :\n",
        "Demonstrate runtime polymorphism using a method play() in a base class Instrument. Derive classes Guitar\n",
        "and Piano that implement their own version of play().\n",
        "'''\n",
        "class Instrument:\n",
        "    def play(self):\n",
        "        print(\"Instrument is playing\")\n",
        "\n",
        "class Guitar(Instrument):\n",
        "    def play(self):\n",
        "        print(\"Guitar is strumming\")\n",
        "\n",
        "class Piano(Instrument):\n",
        "    def play(self):\n",
        "        print(\"Piano is playing melody\")\n"
      ],
      "metadata": {
        "id": "-etQDqOiQRAV"
      },
      "execution_count": null,
      "outputs": []
    },
    {
      "cell_type": "code",
      "source": [
        "'''Question 7 :\n",
        "Create a class MathOperations with a class method add_numbers() to add two numbers and a static\n",
        "method subtract_numbers() to subtract two numbers.\n",
        "'''\n",
        "class MathOperations:\n",
        "    @classmethod\n",
        "    def add_numbers(cls, a, b):\n",
        "        return a + b\n",
        "\n",
        "    @staticmethod\n",
        "    def subtract_numbers(a, b):\n",
        "        return a - b\n"
      ],
      "metadata": {
        "id": "Ta10yexeQYVm"
      },
      "execution_count": null,
      "outputs": []
    },
    {
      "cell_type": "code",
      "source": [
        "'''Question 8 :\n",
        "Implement a class Person with a class method to count the total number of persons created.\n",
        "'''\n",
        "class Person:\n",
        "    count = 0\n",
        "\n",
        "    def __init__(self, name):\n",
        "        self.name = name\n",
        "        Person.count += 1\n",
        "\n",
        "    @classmethod\n",
        "    def total_persons(cls):\n",
        "        return cls.count\n"
      ],
      "metadata": {
        "id": "Avc-2Be2Qesl"
      },
      "execution_count": null,
      "outputs": []
    },
    {
      "cell_type": "code",
      "source": [
        "'''Question 9 :\n",
        "Write a class Fraction with attributes numerator and denominator. Override the str method to display the\n",
        "fraction as \"numerator/denominator\".\n",
        "'''\n",
        "class Fraction:\n",
        "    def __init__(self, numerator, denominator):\n",
        "        self.numerator = numerator\n",
        "        self.denominator = denominator\n",
        "\n",
        "    def __str__(self):\n",
        "        return f\"{self.numerator}/{self.denominator}\"\n"
      ],
      "metadata": {
        "id": "ncHBYBYsQq48"
      },
      "execution_count": null,
      "outputs": []
    },
    {
      "cell_type": "code",
      "source": [
        "'''Question 10 :\n",
        "Demonstrate operator overloading by creating a class Vector and overriding the add method to add two\n",
        "vectors.\n",
        "'''\n",
        "class Vector:\n",
        "    def __init__(self, x, y):\n",
        "        self.x = x\n",
        "        self.y = y\n",
        "\n",
        "    def __add__(self, other):\n",
        "        return Vector(self.x + other.x, self.y + other.y)\n",
        "\n",
        "    def __str__(self):\n",
        "        return f\"({self.x}, {self.y})\"\n"
      ],
      "metadata": {
        "id": "tjJGZjP8Qysx"
      },
      "execution_count": null,
      "outputs": []
    },
    {
      "cell_type": "code",
      "source": [
        "'''Question 11 :\n",
        " Create a class Person with attributes name and age. Add a method greet() that prints \"Hello, my name is\n",
        "{name} and I am {age} years old.\"\n",
        "'''\n",
        "class Person:\n",
        "    def __init__(self, name, age):\n",
        "        self.name = name\n",
        "        self.age = age\n",
        "\n",
        "    def greet(self):\n",
        "        print(f\"Hello, my name is {self.name} and I am {self.age} years old.\")\n"
      ],
      "metadata": {
        "id": "yl5WcrfJQ-Wd"
      },
      "execution_count": null,
      "outputs": []
    },
    {
      "cell_type": "code",
      "source": [
        "'''Question 12 :\n",
        "Implement a class Student with attributes name and grades. Create a method average_grade() to compute\n",
        "the average of the grades.\n",
        "'''\n",
        "class Student:\n",
        "    def __init__(self, name, grades):\n",
        "        self.name = name\n",
        "        self.grades = grades\n",
        "\n",
        "    def average_grade(self):\n",
        "        return sum(self.grades) / len(self.grades)\n"
      ],
      "metadata": {
        "id": "DDe5measRGAA"
      },
      "execution_count": null,
      "outputs": []
    },
    {
      "cell_type": "code",
      "source": [
        "'''Question 13 :\n",
        "Create a class Rectangle with methods set_dimensions() to set the dimensions and area() to calculate the\n",
        "area.\n",
        "'''\n",
        "class Rectangle:\n",
        "    def set_dimensions(self, width, height):\n",
        "        self.width = width\n",
        "        self.height = height\n",
        "\n",
        "    def area(self):\n",
        "        return self.width * self.height\n"
      ],
      "metadata": {
        "id": "dzhvl1OFROLh"
      },
      "execution_count": null,
      "outputs": []
    },
    {
      "cell_type": "code",
      "source": [
        "'''Question 14 :\n",
        " Create a class Employee with a method calculate_salary() that computes the salary based on hours worked\n",
        "and hourly rate. Create a derived class Manager that adds a bonus to the salary.\n",
        "'''\n",
        "class Employee:\n",
        "    def calculate_salary(self, hours_worked, hourly_rate):\n",
        "        return hours_worked * hourly_rate\n",
        "\n",
        "class Manager(Employee):\n",
        "    def calculate_salary(self, hours_worked, hourly_rate, bonus):\n",
        "        base_salary = super().calculate_salary(hours_worked, hourly_rate)\n",
        "        return base_salary + bonus\n"
      ],
      "metadata": {
        "id": "M9OM740ORVQK"
      },
      "execution_count": null,
      "outputs": []
    },
    {
      "cell_type": "code",
      "source": [
        "'''Question 15 :\n",
        "Create a class Product with attributes name, price, and quantity. Implement a method total_price() that\n",
        "calculates the total price of the product.\n",
        "'''\n",
        "class Product:\n",
        "    def __init__(self, name, price, quantity):\n",
        "        self.name = name\n",
        "        self.price = price\n",
        "        self.quantity = quantity\n",
        "\n",
        "    def total_price(self):\n",
        "        return self.price * self.quantity\n",
        "\n",
        "\n",
        "product = Product(\"Laptop\", 1000, 3)\n",
        "print(product.total_price())"
      ],
      "metadata": {
        "id": "bHLVEFYcRePZ"
      },
      "execution_count": null,
      "outputs": []
    },
    {
      "cell_type": "code",
      "source": [
        "'''Question 16 :\n",
        "Create a class Animal with an abstract method sound(). Create two derived classes Cow and Sheep that\n",
        "implement the sound() method.\n",
        "'''\n",
        "from abc import ABC, abstractmethod\n",
        "\n",
        "class Animal(ABC):\n",
        "    @abstractmethod\n",
        "    def sound(self):\n",
        "        pass\n",
        "\n",
        "class Cow(Animal):\n",
        "    def sound(self):\n",
        "        print(\"Moo\")\n",
        "\n",
        "class Sheep(Animal):\n",
        "    def sound(self):\n",
        "        print(\"Baa\")\n",
        "\n",
        "cow = Cow()\n",
        "cow.sound()\n",
        "sheep = Sheep()\n",
        "sheep.sound()\n"
      ],
      "metadata": {
        "id": "WlazkZ7GSe3J"
      },
      "execution_count": null,
      "outputs": []
    },
    {
      "cell_type": "code",
      "source": [
        "'''Question 17 :\n",
        " Create a class Book with attributes title, author, and year_published. Add a method get_book_info() that\n",
        "returns a formatted string with the book's details.\n",
        "'''\n",
        "class Book:\n",
        "    def __init__(self, title, author, year_published):\n",
        "        self.title = title\n",
        "        self.author = author\n",
        "        self.year_published = year_published\n",
        "\n",
        "    def get_book_info(self):\n",
        "        return f\"'{self.title}' by {self.author}, published in {self.year_published}\"\n",
        "\n",
        "\n",
        "book = Book(\"1984\", \"George Orwell\", 1949)\n",
        "print(book.get_book_info())"
      ],
      "metadata": {
        "id": "bON7NarJSq4F"
      },
      "execution_count": null,
      "outputs": []
    },
    {
      "cell_type": "code",
      "source": [
        "'''Questioin 18 :\n",
        "Create a class House with attributes address and price. Create a derived class Mansion that adds an\n",
        "attribute number_of_rooms.\n",
        "'''\n",
        "class House:\n",
        "    def __init__(self, address, price):\n",
        "        self.address = address\n",
        "        self.price = price\n",
        "\n",
        "class Mansion(House):\n",
        "    def __init__(self, address, price, number_of_rooms):\n",
        "        super().__init__(address, price)\n",
        "        self.number_of_rooms = number_of_rooms\n",
        "\n",
        "mansion = Mansion(\"123 Luxury Ave\", 2000000, 12)\n",
        "print(mansion.address)\n",
        "print(mansion.price)\n",
        "print(mansion.number_of_rooms)\n"
      ],
      "metadata": {
        "id": "zEga9P4bSzah"
      },
      "execution_count": null,
      "outputs": []
    }
  ]
}