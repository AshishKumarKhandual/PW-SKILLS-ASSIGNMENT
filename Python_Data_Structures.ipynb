{
  "nbformat": 4,
  "nbformat_minor": 0,
  "metadata": {
    "colab": {
      "provenance": []
    },
    "kernelspec": {
      "name": "python3",
      "display_name": "Python 3"
    },
    "language_info": {
      "name": "python"
    }
  },
  "cells": [
    {
      "cell_type": "markdown",
      "source": [
        "# Data Types and Structures Questions"
      ],
      "metadata": {
        "id": "mCPCPrw0Vuus"
      }
    },
    {
      "cell_type": "markdown",
      "source": [
        "1 . What are data structures, and why are they important?\n",
        "\n",
        "Answer : Data structures are ways to organize, manage, and store data for efficient access and modification. They're essential for designing efficient algorithms and solving complex problems.\n",
        "\n",
        "2 : Explain the difference between mutable and immutable data types with examples.\n",
        "\n",
        "Mutable: Can be changed after creation. Example: list, dict, set.\n",
        "\n",
        "my_list = [1, 2]; my_list.append(3)  # Changes list\n",
        "Immutable: Cannot be changed after creation. Example: int, str, tuple.\n",
        "\n",
        "my_str = \"hello\"; my_str[0] = 'H'  # Error\n",
        "\n",
        "3 : What are the main differences between lists and tuples in Python?\n",
        "\n",
        "Answer : List: Mutable, dynamic, slower, denoted by [].\n",
        "\n",
        "Tuple: Immutable, faster, used for fixed data, denoted by ().\n",
        "\n",
        "4 : Describe how dictionaries store data.\n",
        "\n",
        "Answer : Dictionaries store data as key-value pairs using a hash table internally for fast lookups.\n",
        "\n",
        "5 : Why might you use a set instead of a list in Python?\n",
        "\n",
        "Answer : Sets automatically remove duplicates and allow fast membership tests using hashing.\n",
        "\n",
        "6 : What is a string in Python, and how is it different from a list?\n",
        "\n",
        "Answer : A string is an immutable sequence of characters. Unlike lists, strings cannot be changed after creation.\n",
        "\n",
        "7 : How do tuples ensure data integrity in Python?\n",
        "\n",
        "Answer : Tuples are immutable, meaning their contents cannot be altered, which ensures that data remains constant.\n",
        "\n",
        "8 : What is a hash table, and how does it relate to dictionaries in Python?\n",
        "\n",
        "Answer : A hash table maps keys to values using a hash function. Python's dictionaries use hash tables for fast key-based retrieval.\n",
        "\n",
        "9 : Can lists contain different data types in Python?\n",
        "\n",
        "Answer : Yes, lists can contain any combination of data types:\n",
        "\n",
        "my_list = [1, \"two\", 3.0, [4, 5]]\n",
        "\n",
        "10 : Explain why strings are immutable in Python.\n",
        "Answer : Immutability makes strings more memory-efficient and safer in concurrent environments.\n",
        "\n",
        "11 : What advantages do dictionaries offer over lists for certain tasks?\n",
        "\n",
        "Answer : Dictionaries allow fast lookups, named access (via keys), and better organization for key-value data.\n",
        "\n",
        "12 : Describe a scenario where using a tuple would be preferable over a list.\n",
        "\n",
        "Answer : When you want to store fixed configuration values (e.g., coordinates, RGB values) that shouldn’t change.\n",
        "\n",
        "13 : How do sets handle duplicate values in Python?\n",
        "\n",
        "Answer : Sets automatically remove duplicates; only unique values are stored.\n",
        "\n",
        "14 : How does the \"in\" keyword work differently for lists and dictionaries?\n",
        "\n",
        "Answer : In a list, it checks for values: 3 in [1,2,3] → True\n",
        "\n",
        "In a dictionary, it checks for keys: 'a' in {'a':1} → True\n",
        "\n",
        "15 : Can you modify the elements of a tuple? Explain why or why not.\n",
        "\n",
        "Answer : No, tuples are immutable. Once created, their content cannot be changed.\n",
        "\n",
        "16 : What is a nested dictionary, and give an example of its use case?\n",
        "\n",
        "Answer : A dictionary inside another dictionary.\n",
        "Example:\n",
        "\n",
        "students = {\"John\": {\"age\": 20, \"grade\": \"A\"}}\n",
        "17 : Describe the time complexity of accessing elements in a dictionary.\n",
        "\n",
        "Answer : Average time complexity is O(1) due to hashing.\n",
        "\n",
        "18 : In what situations are lists preferred over dictionaries?\n",
        "\n",
        "Answer : When order matters or when only sequential data is needed without key-value mapping.\n",
        "\n",
        "19 : Why are dictionaries considered unordered, and how does that affect data retrieval?\n",
        "Answer :  dictionaries didn’t preserve insertion order. In Python 3.7+, they maintain order but are still accessed by key, not position.\n",
        "\n",
        "20 : Explain the difference between a list and a dictionary in terms of data retrieval.\n",
        "\n",
        "Answer : List: Retrieve by index (position-based).\n",
        "\n",
        "Dictionary: Retrieve by key (name-based).\n"
      ],
      "metadata": {
        "id": "E4Syu6kNV79x"
      }
    },
    {
      "cell_type": "markdown",
      "source": [
        "# Practical Questions"
      ],
      "metadata": {
        "id": "Uckb9WgyXw18"
      }
    },
    {
      "cell_type": "code",
      "source": [
        "'''Question 1 :\n",
        "  Create a string with your name and print it.\n",
        "'''\n",
        "name = \"Alice\"\n",
        "print(name)\n"
      ],
      "metadata": {
        "colab": {
          "base_uri": "https://localhost:8080/"
        },
        "id": "aD97_io8XuaL",
        "outputId": "49f01ce2-e944-4d79-831c-a781aa6fd650"
      },
      "execution_count": 1,
      "outputs": [
        {
          "output_type": "stream",
          "name": "stdout",
          "text": [
            "Alice\n"
          ]
        }
      ]
    },
    {
      "cell_type": "code",
      "source": [
        "'''Question 2 :\n",
        "Find the length of the string \"Hello World\".\n",
        "'''\n",
        "print(len(\"Hello World\"))\n"
      ],
      "metadata": {
        "id": "a1kpSGOjYBQ0"
      },
      "execution_count": null,
      "outputs": []
    },
    {
      "cell_type": "code",
      "source": [
        "'''Question 3 :\n",
        "Slice the first 3 characters from \"Python Programming\".\n",
        "'''\n",
        "s = \"Python Programming\"\n",
        "print(s[:3])\n"
      ],
      "metadata": {
        "id": "YZpECdxpYIuq"
      },
      "execution_count": null,
      "outputs": []
    },
    {
      "cell_type": "code",
      "source": [
        "'''Question 4 :\n",
        "Convert the string \"hello\" to uppercase.\n",
        "'''\n",
        "print(\"hello\".upper())\n"
      ],
      "metadata": {
        "id": "RoYsqNwAYTXk"
      },
      "execution_count": null,
      "outputs": []
    },
    {
      "cell_type": "code",
      "source": [
        "'''Question 5 :\n",
        "Replace \"apple\" with \"orange\" in \"I like apple\".\n",
        "'''\n",
        "s = \"I like apple\"\n",
        "print(s.replace(\"apple\", \"orange\"))\n"
      ],
      "metadata": {
        "id": "EsusRWjoYa_E"
      },
      "execution_count": null,
      "outputs": []
    },
    {
      "cell_type": "code",
      "source": [
        "''' Question 6 :\n",
        "Create a list with numbers 1 to 5 and print it.\n",
        "'''\n",
        "numbers = [1, 2, 3, 4, 5]\n",
        "print(numbers)\n"
      ],
      "metadata": {
        "id": "WdOjL5FzYlwl"
      },
      "execution_count": null,
      "outputs": []
    },
    {
      "cell_type": "code",
      "source": [
        "'''Question 7 :\n",
        "Append 10 to the list [1, 2, 3, 4].\n",
        "'''\n",
        "lst = [1, 2, 3, 4]\n",
        "lst.append(10)\n",
        "print(lst)\n"
      ],
      "metadata": {
        "id": "v-Kq42HgYtW4"
      },
      "execution_count": null,
      "outputs": []
    },
    {
      "cell_type": "code",
      "source": [
        "'''Question 8 :\n",
        "Remove 3 from the list [1, 2, 3, 4, 5].\n",
        "'''\n",
        "lst = [1, 2, 3, 4, 5]\n",
        "lst.remove(3)\n",
        "print(lst)\n"
      ],
      "metadata": {
        "id": "o4FJUgzbY9K5"
      },
      "execution_count": null,
      "outputs": []
    },
    {
      "cell_type": "code",
      "source": [
        "'''Question 9 :\n",
        "Access the second element in ['a', 'b', 'c', 'd'].\n",
        "'''\n",
        "letters = ['a', 'b', 'c', 'd']\n",
        "print(letters[1])\n"
      ],
      "metadata": {
        "id": "EPd-FdcYZCY-"
      },
      "execution_count": null,
      "outputs": []
    },
    {
      "cell_type": "code",
      "source": [
        "'''Questioin 10 :\n",
        "Reverse the list [10, 20, 30, 40, 50].\n",
        "'''\n",
        "lst = [10, 20, 30, 40, 50]\n",
        "lst.reverse()\n",
        "print(lst)\n"
      ],
      "metadata": {
        "id": "Q5B0qtoWZIqU"
      },
      "execution_count": null,
      "outputs": []
    },
    {
      "cell_type": "code",
      "source": [
        "'''Question 11 :\n",
        "Create a tuple with the elements 100, 200, 300 and print it.\n",
        "'''\n",
        "my_tuple = (100, 200, 300)\n",
        "print(my_tuple)\n"
      ],
      "metadata": {
        "id": "YGiCiKslZR4b"
      },
      "execution_count": null,
      "outputs": []
    },
    {
      "cell_type": "code",
      "source": [
        "'''Question 12 :\n",
        "Access the second-to-last element of the tuple ('red', 'green', 'blue', 'yellow').\n",
        "'''\n",
        "colors = ('red', 'green', 'blue', 'yellow')\n",
        "print(colors[-2])\n"
      ],
      "metadata": {
        "id": "0ubcg6zqZlE7"
      },
      "execution_count": null,
      "outputs": []
    },
    {
      "cell_type": "code",
      "source": [
        "'''Question 13 :\n",
        "Find the minimum number in the tuple (10, 20, 5, 15).\n",
        "'''\n",
        "nums = (10, 20, 5, 15)\n",
        "print(min(nums))\n"
      ],
      "metadata": {
        "id": "5Dk8xBQEZtk1"
      },
      "execution_count": null,
      "outputs": []
    },
    {
      "cell_type": "code",
      "source": [
        "'''Question  14 :\n",
        "Find the index of the element \"cat\" in the tuple ('dog', 'cat', 'rabbit').\n",
        "'''\n",
        "animals = ('dog', 'cat', 'rabbit')\n",
        "print(animals.index('cat'))\n"
      ],
      "metadata": {
        "id": "2R3Ef-DLZ2HR"
      },
      "execution_count": null,
      "outputs": []
    },
    {
      "cell_type": "code",
      "source": [
        "'''Question 15 :\n",
        "Create a tuple containing three different fruits and check if \"kiwi\" is in it\n",
        "'''\n",
        "fruits = ('apple', 'banana', 'mango')\n",
        "print('kiwi' in fruits)\n"
      ],
      "metadata": {
        "id": "TVLV_l3fZ-Su"
      },
      "execution_count": null,
      "outputs": []
    },
    {
      "cell_type": "code",
      "source": [
        "'''Question 16 :\n",
        "Create a set with the elements 'a', 'b', 'c' and print it.\n",
        "'''\n",
        "my_set = {'a', 'b', 'c'}\n",
        "print(my_set)\n"
      ],
      "metadata": {
        "id": "SoRMUyhSaGsn"
      },
      "execution_count": null,
      "outputs": []
    },
    {
      "cell_type": "code",
      "source": [
        "'''Question 17 :\n",
        "Clear all elements from the set {1, 2, 3, 4, 5}.\n",
        "'''\n",
        "s = {1, 2, 3, 4, 5}\n",
        "s.clear()\n",
        "print(s)\n"
      ],
      "metadata": {
        "id": "8rb7dZ9RaWDH"
      },
      "execution_count": null,
      "outputs": []
    },
    {
      "cell_type": "code",
      "source": [
        "'''Question 18 :\n",
        "Remove the element 4 from the set {1, 2, 3, 4}.\n",
        "'''\n",
        "s = {1, 2, 3, 4}\n",
        "s.remove(4)\n",
        "print(s)\n"
      ],
      "metadata": {
        "id": "yu_8Pmz8ag3s"
      },
      "execution_count": null,
      "outputs": []
    },
    {
      "cell_type": "code",
      "source": [
        "'''Question 19 :\n",
        "Find the union of two sets {1, 2, 3} and {3, 4, 5}.\n",
        "'''\n",
        "a = {1, 2, 3}\n",
        "b = {3, 4, 5}\n",
        "print(a.union(b))\n"
      ],
      "metadata": {
        "id": "j53Y59ciamT7"
      },
      "execution_count": null,
      "outputs": []
    },
    {
      "cell_type": "code",
      "source": [
        "'''Question 20 :\n",
        "Find the intersection of two sets {1, 2, 3} and {2, 3, 4}.\n",
        "'''\n",
        "a = {1, 2, 3}\n",
        "b = {2, 3, 4}\n",
        "print(a.intersection(b))\n"
      ],
      "metadata": {
        "id": "Sf8FYH-rasHa"
      },
      "execution_count": null,
      "outputs": []
    },
    {
      "cell_type": "code",
      "source": [
        "'''Question 21 :\n",
        "Create a dictionary with the keys \"name\", \"age\", and \"city\", and print it.\n",
        "'''\n",
        "person = {\"name\": \"Alice\", \"age\": 30, \"city\": \"New York\"}\n",
        "print(person)\n"
      ],
      "metadata": {
        "id": "PZdiQzBpayuN"
      },
      "execution_count": null,
      "outputs": []
    },
    {
      "cell_type": "code",
      "source": [
        "'''Question 22 :\n",
        "Add a new key-value pair \"country\": \"USA\" to the dictionary {'name': 'John', 'age': 25}.\n",
        "'''\n",
        "person = {'name': 'John', 'age': 25}\n",
        "person['country'] = 'USA'\n",
        "print(person)\n"
      ],
      "metadata": {
        "id": "dp1HHA5ja6pW"
      },
      "execution_count": null,
      "outputs": []
    },
    {
      "cell_type": "code",
      "source": [
        "'''Question 23 :\n",
        "Access the value associated with the key \"name\" in the dictionary {'name': 'Alice', 'age': 30}.\n",
        "'''\n",
        "data = {'name': 'Alice', 'age': 30}\n",
        "print(data['name'])\n"
      ],
      "metadata": {
        "id": "TslDSDyFbD4O"
      },
      "execution_count": null,
      "outputs": []
    },
    {
      "cell_type": "code",
      "source": [
        "'''Question 24 :\n",
        "Remove the key \"age\" from the dictionary {'name': 'Bob', 'age': 22, 'city': 'New York'}.\n",
        "'''\n",
        "person = {'name': 'Bob', 'age': 22, 'city': 'New York'}\n",
        "del person['age']\n",
        "print(person)\n"
      ],
      "metadata": {
        "id": "5quJnrl3bJ7w"
      },
      "execution_count": null,
      "outputs": []
    },
    {
      "cell_type": "code",
      "source": [
        "'''Question 25 :\n",
        "Check if the key \"city\" exists in the dictionary {'name': 'Alice', 'city': 'Paris'}.\n",
        "'''\n",
        "info = {'name': 'Alice', 'city': 'Paris'}\n",
        "print('city' in info)\n"
      ],
      "metadata": {
        "id": "YEVbTbpqbQAf"
      },
      "execution_count": null,
      "outputs": []
    },
    {
      "cell_type": "code",
      "source": [
        "'''Question 26 :\n",
        "Create a list, a tuple, and a dictionary, and print them all.\n",
        "'''\n",
        "my_list = [1, 2, 3]\n",
        "my_tuple = ('a', 'b', 'c')\n",
        "my_dict = {'key1': 'value1', 'key2': 'value2'}\n",
        "print(my_list)\n",
        "print(my_tuple)\n",
        "print(my_dict)\n"
      ],
      "metadata": {
        "id": "hggM8KTYbWZN"
      },
      "execution_count": null,
      "outputs": []
    },
    {
      "cell_type": "code",
      "source": [
        "'''Question 27 :\n",
        "Create a list of 5 random numbers between 1 and 100, sort it, and print.\n",
        "'''\n",
        "import random\n",
        "nums = random.sample(range(1, 101), 5)\n",
        "nums.sort()\n",
        "print(nums)\n"
      ],
      "metadata": {
        "id": "o0yn1v7-bdeg"
      },
      "execution_count": null,
      "outputs": []
    },
    {
      "cell_type": "code",
      "source": [
        "'''Question 28 :\n",
        "Create a list with strings and print the element at the third index.\n",
        "'''\n",
        "words = [\"apple\", \"banana\", \"cherry\", \"date\", \"fig\"]\n",
        "print(words[3])\n"
      ],
      "metadata": {
        "id": "tXLTU3ixbj-O"
      },
      "execution_count": null,
      "outputs": []
    },
    {
      "cell_type": "code",
      "source": [
        "'''Question 29 :\n",
        "Combine two dictionaries into one and print the result.\n",
        "'''\n",
        "dict1 = {'a': 1, 'b': 2}\n",
        "dict2 = {'c': 3, 'd': 4}\n",
        "combined = {**dict1, **dict2}\n",
        "print(combined)\n"
      ],
      "metadata": {
        "id": "Wm0UFwTDbrv6"
      },
      "execution_count": null,
      "outputs": []
    },
    {
      "cell_type": "code",
      "source": [
        "'''Question 30 :\n",
        "Convert a list of strings into a set.\n",
        "'''\n",
        "string_list = [\"apple\", \"banana\", \"apple\", \"cherry\"]\n",
        "string_set = set(string_list)\n",
        "print(string_set)\n"
      ],
      "metadata": {
        "id": "698dZ_LfbypJ"
      },
      "execution_count": null,
      "outputs": []
    }
  ]
}